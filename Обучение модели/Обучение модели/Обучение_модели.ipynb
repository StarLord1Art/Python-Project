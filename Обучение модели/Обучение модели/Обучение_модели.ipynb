{
  "nbformat": 4,
  "nbformat_minor": 0,
  "metadata": {
    "colab": {
      "provenance": []
    },
    "kernelspec": {
      "name": "python3",
      "display_name": "Python 3"
    },
    "language_info": {
      "name": "python"
    }
  },
  "cells": [
    {
      "cell_type": "code",
      "source": [
        "import pandas as pd\n",
        "import seaborn as sns\n",
        "\n",
        "import warnings\n",
        "warnings.filterwarnings(\"ignore\")"
      ],
      "metadata": {
        "id": "G8YezBkNEsQv"
      },
      "execution_count": 1,
      "outputs": []
    },
    {
      "cell_type": "code",
      "source": [
        "d100 = pd.read_csv('d100.csv') # читаю данные, полученные парсером от 20 компаний за 100 дней"
      ],
      "metadata": {
        "id": "Vt2YkNYj6fFM"
      },
      "execution_count": 3,
      "outputs": []
    },
    {
      "cell_type": "code",
      "source": [
        "df = pd.DataFrame(columns=[f'day{i + 1}' for i in range(31)]) # создаю датасет для обучения - 30 дней потом будут \"X\", а 31 - \"y\""
      ],
      "metadata": {
        "id": "hh0JsXeeD11e"
      },
      "execution_count": 4,
      "outputs": []
    },
    {
      "cell_type": "code",
      "source": [
        "for i in d100: # заполняю датасет\n",
        "  for j in range(d100.shape[0] - 30):\n",
        "    df.loc[df.shape[0]] = list(d100[i][j:j + 31]) "
      ],
      "metadata": {
        "id": "TSammBN4FG-B"
      },
      "execution_count": 5,
      "outputs": []
    },
    {
      "cell_type": "code",
      "source": [
        "X = df.drop(columns=['day31']) # 30 дней будут \"X\", а 31 надо предсказать\n",
        "y = df['day31']"
      ],
      "metadata": {
        "id": "dcA7OQ61FwUI"
      },
      "execution_count": 6,
      "outputs": []
    },
    {
      "cell_type": "code",
      "source": [
        "from sklearn.model_selection import train_test_split\n",
        "X_train, X_test, y_train, y_test = train_test_split(X, y, random_state=0) # Создаю обучающие и валидационные выборки"
      ],
      "metadata": {
        "id": "aH1vqXYfIGOw"
      },
      "execution_count": null,
      "outputs": []
    },
    {
      "cell_type": "code",
      "source": [
        "# перебор моделей\n",
        "\n",
        "from sklearn.linear_model import LinearRegression\n",
        "\n",
        "model = LinearRegression()\n",
        "model.fit(X_train, y_train)\n",
        "a_lr = model.predict(X_test)\n",
        "\n",
        "from sklearn.tree import DecisionTreeRegressor\n",
        "\n",
        "# Создадим модель дерева решений\n",
        "model = DecisionTreeRegressor()\n",
        "\n",
        "# обучение модели\n",
        "model.fit(X_train, y_train)\n",
        "\n",
        "# предсказание ответов для тестовой выборки\n",
        "a_dt = model.predict(X_test)\n",
        "\n",
        "from sklearn.ensemble import RandomForestRegressor\n",
        "\n",
        "model = RandomForestRegressor(n_estimators=300, random_state=0)\n",
        "\n",
        "# обучение модели\n",
        "model.fit(X_train, y_train)\n",
        "\n",
        "# предсказание ответов для тестовой выборки\n",
        "a_rf = model.predict(X_test)\n",
        "\n",
        "from sklearn.neighbors import KNeighborsRegressor\n",
        "\n",
        "model = KNeighborsRegressor(n_neighbors=4)\n",
        "model.fit(X_train, y_train)\n",
        "a_knn = model.predict(X_test)"
      ],
      "metadata": {
        "id": "HoK4m6Sl0Hnt"
      },
      "execution_count": null,
      "outputs": []
    },
    {
      "cell_type": "code",
      "source": [
        "from sklearn.ensemble import GradientBoostingRegressor\n",
        "\n",
        "model = GradientBoostingRegressor(n_estimators=300, random_state=0)\n",
        "model.fit(X_train, y_train)\n",
        "a_gb = model.predict(X_test)\n",
        "\n",
        "from sklearn.ensemble import HistGradientBoostingRegressor\n",
        "\n",
        "model = HistGradientBoostingRegressor()\n",
        "model.fit(X_train, y_train)\n",
        "a_hgb = model.predict(X_test)"
      ],
      "metadata": {
        "id": "XVD6n37O1HHZ"
      },
      "execution_count": null,
      "outputs": []
    },
    {
      "cell_type": "code",
      "source": [
        "from sklearn.ensemble import ExtraTreesRegressor\n",
        "\n",
        "model = ExtraTreesRegressor(n_estimators=300, random_state=0)\n",
        "model.fit(X_train, y_train)\n",
        "a_et = model.predict(X_test)"
      ],
      "metadata": {
        "id": "gNwIO-NuxMnC"
      },
      "execution_count": null,
      "outputs": []
    },
    {
      "cell_type": "code",
      "source": [
        "from sklearn.linear_model import PassiveAggressiveRegressor\n",
        "\n",
        "model = PassiveAggressiveRegressor(random_state=0)\n",
        "model.fit(X_train, y_train)\n",
        "a_pa = model.predict(X_test)"
      ],
      "metadata": {
        "id": "tXFTaFJV2cM8"
      },
      "execution_count": null,
      "outputs": []
    },
    {
      "cell_type": "code",
      "source": [
        "from sklearn.ensemble import AdaBoostRegressor\n",
        "\n",
        "model = AdaBoostRegressor(n_estimators=300, random_state=0)\n",
        "model.fit(X_train, y_train)\n",
        "a_ada = model.predict(X_test)"
      ],
      "metadata": {
        "id": "-youR2od0p0B"
      },
      "execution_count": null,
      "outputs": []
    },
    {
      "cell_type": "code",
      "source": [
        "# сравнимаю точность моделей по двум ошибкам - mean_squared_error и max_error\n",
        "\n",
        "from sklearn.metrics import mean_squared_error as accuracy\n",
        "\n",
        "\n",
        "sns.barplot(\n",
        "    x=['a_lr', 'a_knn', 'a_dt', 'a_rf', 'a_gb', 'a_hgb', 'a_et', 'a_ada', 'a_pa'],\n",
        "    y=[accuracy(a_lr, y_test), accuracy(a_knn, y_test), accuracy(a_dt, y_test), accuracy(a_rf, y_test), accuracy(a_gb, y_test), accuracy(a_hgb, y_test), accuracy(a_et, y_test), accuracy(a_ada, y_test), accuracy(a_pa, y_test)]\n",
        "    );"
      ],
      "metadata": {
        "id": "duM6wf-50qJQ",
        "colab": {
          "base_uri": "https://localhost:8080/",
          "height": 266
        },
        "outputId": "fadaa6ca-c861-4613-a252-31d79b62b8ee"
      },
      "execution_count": null,
      "outputs": [
        {
          "output_type": "display_data",
          "data": {
            "text/plain": [
              "<Figure size 432x288 with 1 Axes>"
            ],
            "image/png": "[encoded data removed]"
          },
          "metadata": {
            "needs_background": "light"
          }
        }
      ]
    },
    {
      "cell_type": "code",
      "source": [
        "from sklearn.metrics import max_error as accuracy\n",
        "\n",
        "\n",
        "sns.barplot(\n",
        "    x=['a_lr', 'a_knn', 'a_dt', 'a_rf', 'a_gb', 'a_hgb', 'a_et', 'a_ada', 'a_pa'],\n",
        "    y=[accuracy(a_lr, y_test), accuracy(a_knn, y_test), accuracy(a_dt, y_test), accuracy(a_rf, y_test), accuracy(a_gb, y_test), accuracy(a_hgb, y_test), accuracy(a_et, y_test), accuracy(a_ada, y_test), accuracy(a_pa, y_test)]\n",
        "    );"
      ],
      "metadata": {
        "colab": {
          "base_uri": "https://localhost:8080/",
          "height": 266
        },
        "id": "AMcp17VsTBOb",
        "outputId": "f44bf152-4cb0-4bf6-bc11-387786d6d597"
      },
      "execution_count": null,
      "outputs": [
        {
          "output_type": "display_data",
          "data": {
            "text/plain": [
              "<Figure size 432x288 with 1 Axes>"
            ],
            "image/png": "[encoded data removed]"
          },
          "metadata": {
            "needs_background": "light"
          }
        }
      ]
    },
    {
      "cell_type": "code",
      "source": [
        "accu = {\n",
        "    'a_lr': accuracy(a_lr, y_test),\n",
        "    'a_knn': accuracy(a_knn, y_test),\n",
        "    'a_dt': accuracy(a_dt, y_test),\n",
        "    'a_rf': accuracy(a_rf, y_test),\n",
        "    'a_gb': accuracy(a_gb, y_test),\n",
        "    'a_hgb': accuracy(a_hgb, y_test),\n",
        "    'a_et': accuracy(a_et, y_test),\n",
        "    'a_ada': accuracy(a_ada, y_test),\n",
        "    'a_pa': accuracy(a_pa, y_test)\n",
        "}\n",
        "print(accu)\n",
        "print(min(accu.values())) # минимальная ошибка"
      ],
      "metadata": {
        "colab": {
          "base_uri": "https://localhost:8080/"
        },
        "id": "QnJORiir51Ls",
        "outputId": "b7cdeb51-8980-482f-86ab-d00234e56186"
      },
      "execution_count": null,
      "outputs": [
        {
          "output_type": "stream",
          "name": "stdout",
          "text": [
            "{'a_lr': 19.79797640809475, 'a_knn': 18.387500000000045, 'a_dt': 27.900000000000034, 'a_rf': 20.12093333333263, 'a_gb': 24.35954564212642, 'a_hgb': 15.004169638593334, 'a_et': 19.925299999999652, 'a_ada': 25.36766666666665, 'a_pa': 16.138867549642526}\n",
            "15.004169638593334\n"
          ]
        }
      ]
    },
    {
      "cell_type": "code",
      "source": [
        "def predict(name, k, model): # предсказание акции name моделью model на k дней\n",
        "  col = list(d100[name])[:30]\n",
        "  ans = col[:]\n",
        "  for i in range(k):\n",
        "    q = model.predict([col])[0];\n",
        "    col.append(q)\n",
        "    ans.append(q)\n",
        "    col.pop(0)\n",
        "  return ans"
      ],
      "metadata": {
        "id": "6DAjqmscTVCl"
      },
      "execution_count": 8,
      "outputs": []
    },
    {
      "cell_type": "code",
      "source": [
        "from sklearn.linear_model import LinearRegression # 3 лучших модели\n",
        "\n",
        "lr = LinearRegression()\n",
        "lr.fit(X, y)\n",
        "\n",
        "from sklearn.ensemble import HistGradientBoostingRegressor\n",
        "\n",
        "hgb = HistGradientBoostingRegressor()\n",
        "hgb.fit(X, y)\n",
        "\n",
        "from sklearn.linear_model import PassiveAggressiveRegressor\n",
        "\n",
        "pa = PassiveAggressiveRegressor(random_state=0)\n",
        "pa.fit(X, y)"
      ],
      "metadata": {
        "colab": {
          "base_uri": "https://localhost:8080/",
          "height": 75
        },
        "id": "eqhwUUO5UgR4",
        "outputId": "68a75bcb-e274-4990-882a-218dc904d54c"
      },
      "execution_count": 9,
      "outputs": [
        {
          "output_type": "execute_result",
          "data": {
            "text/plain": [
              "PassiveAggressiveRegressor(random_state=0)"
            ],
            "text/html": [
              "<style>#sk-container-id-1 {color: black;background-color: white;}#sk-container-id-1 pre{padding: 0;}#sk-container-id-1 div.sk-toggleable {background-color: white;}#sk-container-id-1 label.sk-toggleable__label {cursor: pointer;display: block;width: 100%;margin-bottom: 0;padding: 0.3em;box-sizing: border-box;text-align: center;}#sk-container-id-1 label.sk-toggleable__label-arrow:before {content: \"▸\";float: left;margin-right: 0.25em;color: #696969;}#sk-container-id-1 label.sk-toggleable__label-arrow:hover:before {color: black;}#sk-container-id-1 div.sk-estimator:hover label.sk-toggleable__label-arrow:before {color: black;}#sk-container-id-1 div.sk-toggleable__content {max-height: 0;max-width: 0;overflow: hidden;text-align: left;background-color: #f0f8ff;}#sk-container-id-1 div.sk-toggleable__content pre {margin: 0.2em;color: black;border-radius: 0.25em;background-color: #f0f8ff;}#sk-container-id-1 input.sk-toggleable__control:checked~div.sk-toggleable__content {max-height: 200px;max-width: 100%;overflow: auto;}#sk-container-id-1 input.sk-toggleable__control:checked~label.sk-toggleable__label-arrow:before {content: \"▾\";}#sk-container-id-1 div.sk-estimator input.sk-toggleable__control:checked~label.sk-toggleable__label {background-color: #d4ebff;}#sk-container-id-1 div.sk-label input.sk-toggleable__control:checked~label.sk-toggleable__label {background-color: #d4ebff;}#sk-container-id-1 input.sk-hidden--visually {border: 0;clip: rect(1px 1px 1px 1px);clip: rect(1px, 1px, 1px, 1px);height: 1px;margin: -1px;overflow: hidden;padding: 0;position: absolute;width: 1px;}#sk-container-id-1 div.sk-estimator {font-family: monospace;background-color: #f0f8ff;border: 1px dotted black;border-radius: 0.25em;box-sizing: border-box;margin-bottom: 0.5em;}#sk-container-id-1 div.sk-estimator:hover {background-color: #d4ebff;}#sk-container-id-1 div.sk-parallel-item::after {content: \"\";width: 100%;border-bottom: 1px solid gray;flex-grow: 1;}#sk-container-id-1 div.sk-label:hover label.sk-toggleable__label {background-color: #d4ebff;}#sk-container-id-1 div.sk-serial::before {content: \"\";position: absolute;border-left: 1px solid gray;box-sizing: border-box;top: 0;bottom: 0;left: 50%;z-index: 0;}#sk-container-id-1 div.sk-serial {display: flex;flex-direction: column;align-items: center;background-color: white;padding-right: 0.2em;padding-left: 0.2em;position: relative;}#sk-container-id-1 div.sk-item {position: relative;z-index: 1;}#sk-container-id-1 div.sk-parallel {display: flex;align-items: stretch;justify-content: center;background-color: white;position: relative;}#sk-container-id-1 div.sk-item::before, #sk-container-id-1 div.sk-parallel-item::before {content: \"\";position: absolute;border-left: 1px solid gray;box-sizing: border-box;top: 0;bottom: 0;left: 50%;z-index: -1;}#sk-container-id-1 div.sk-parallel-item {display: flex;flex-direction: column;z-index: 1;position: relative;background-color: white;}#sk-container-id-1 div.sk-parallel-item:first-child::after {align-self: flex-end;width: 50%;}#sk-container-id-1 div.sk-parallel-item:last-child::after {align-self: flex-start;width: 50%;}#sk-container-id-1 div.sk-parallel-item:only-child::after {width: 0;}#sk-container-id-1 div.sk-dashed-wrapped {border: 1px dashed gray;margin: 0 0.4em 0.5em 0.4em;box-sizing: border-box;padding-bottom: 0.4em;background-color: white;}#sk-container-id-1 div.sk-label label {font-family: monospace;font-weight: bold;display: inline-block;line-height: 1.2em;}#sk-container-id-1 div.sk-label-container {text-align: center;}#sk-container-id-1 div.sk-container {/* jupyter's `normalize.less` sets `[hidden] { display: none; }` but bootstrap.min.css set `[hidden] { display: none !important; }` so we also need the `!important` here to be able to override the default hidden behavior on the sphinx rendered scikit-learn.org. See: https://github.com/scikit-learn/scikit-learn/issues/21755 */display: inline-block !important;position: relative;}#sk-container-id-1 div.sk-text-repr-fallback {display: none;}</style><div id=\"sk-container-id-1\" class=\"sk-top-container\"><div class=\"sk-text-repr-fallback\"><pre>PassiveAggressiveRegressor(random_state=0)</pre><b>In a Jupyter environment, please rerun this cell to show the HTML representation or trust the notebook. <br />On GitHub, the HTML representation is unable to render, please try loading this page with nbviewer.org.</b></div><div class=\"sk-container\" hidden><div class=\"sk-item\"><div class=\"sk-estimator sk-toggleable\"><input class=\"sk-toggleable__control sk-hidden--visually\" id=\"sk-estimator-id-1\" type=\"checkbox\" checked><label for=\"sk-estimator-id-1\" class=\"sk-toggleable__label sk-toggleable__label-arrow\">PassiveAggressiveRegressor</label><div class=\"sk-toggleable__content\"><pre>PassiveAggressiveRegressor(random_state=0)</pre></div></div></div></div></div>"
            ]
          },
          "metadata": {},
          "execution_count": 9
        }
      ]
    },
    {
      "cell_type": "code",
      "source": [
        "sns.palplot(sns.color_palette('muted', n_colors=4)) # палитра для понимания какая где модель"
      ],
      "metadata": {
        "colab": {
          "base_uri": "https://localhost:8080/",
          "height": 89
        },
        "id": "-AUI5DBVXP3A",
        "outputId": "d81fe30a-7e08-4d59-bce1-f3df0df99b49"
      },
      "execution_count": 10,
      "outputs": [
        {
          "output_type": "display_data",
          "data": {
            "text/plain": [
              "<Figure size 288x72 with 1 Axes>"
            ],
            "image/png": "[encoded data removed]"
          },
          "metadata": {
            "needs_background": "light"
          }
        }
      ]
    },
    {
      "cell_type": "code",
      "source": [
        "name = 'DE' # название акции\n",
        "c = sns.color_palette('muted', n_colors=4)\n",
        "# строю графики\n",
        "x = [i for i in range(100)]\n",
        "sns.lineplot(x=x, y=d100[name], color=c[0]);\n",
        "sns.lineplot(x=x, y=predict(name, 70, lr), color=c[1]);\n",
        "sns.lineplot(x=x, y=predict(name, 70, hgb), color=c[2]);\n",
        "sns.lineplot(x=x, y=predict(name, 70, pa), color=c[3]);"
      ],
      "metadata": {
        "colab": {
          "base_uri": "https://localhost:8080/",
          "height": 265
        },
        "id": "b8bKVs25KzI4",
        "outputId": "e8605202-d004-47b1-b6b4-7e5b1cb856d7"
      },
      "execution_count": 15,
      "outputs": [
        {
          "output_type": "display_data",
          "data": {
            "text/plain": [
              "<Figure size 432x288 with 1 Axes>"
            ],
            "image/png": "[encoded data removed]"
          },
          "metadata": {
            "needs_background": "light"
          }
        }
      ]
    },
    {
      "cell_type": "code",
      "source": [
        "import pickle # сохраняем модель для web приложения\n",
        "\n",
        "\n",
        "with open('model.pkl', 'wb') as file:\n",
        "  pickle.dump(hgb, file)"
      ],
      "metadata": {
        "id": "UOlwoH_Eef3d"
      },
      "execution_count": 19,
      "outputs": []
    },
    {
      "cell_type": "code",
      "source": [
        "with open('model.pkl', 'rb') as file:\n",
        "  model = pickle.load(file)"
      ],
      "metadata": {
        "id": "xVuRPE75ejbA"
      },
      "execution_count": null,
      "outputs": []
    }
  ]
}